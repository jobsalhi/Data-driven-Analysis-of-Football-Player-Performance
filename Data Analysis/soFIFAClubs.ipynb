{
 "cells": [
  {
   "cell_type": "markdown",
   "id": "809e2d99",
   "metadata": {},
   "source": [
    "### Setup and Import"
   ]
  },
  {
   "cell_type": "code",
   "execution_count": 1,
   "id": "8575276d",
   "metadata": {},
   "outputs": [],
   "source": [
    "# 1. Setup\n",
    "import pandas as pd\n",
    "import numpy as np\n",
    "import seaborn as sns\n",
    "import matplotlib.pyplot as plt\n",
    "\n",
    "# Set some nice visual defaults\n",
    "sns.set_theme(style=\"whitegrid\", palette=\"muted\", font_scale=1.1)\n",
    "\n",
    "\n"
   ]
  },
  {
   "cell_type": "markdown",
   "id": "7747a0fe",
   "metadata": {},
   "source": [
    "### Load the data\n",
    "We import the **CSV** data fetched using our scrapers."
   ]
  },
  {
   "cell_type": "code",
   "execution_count": 2,
   "id": "b05c2e7a",
   "metadata": {},
   "outputs": [
    {
     "data": {
      "application/vnd.microsoft.datawrangler.viewer.v0+json": {
       "columns": [
        {
         "name": "index",
         "rawType": "int64",
         "type": "integer"
        },
        {
         "name": "club_id",
         "rawType": "int64",
         "type": "integer"
        },
        {
         "name": "name",
         "rawType": "object",
         "type": "string"
        },
        {
         "name": "league",
         "rawType": "object",
         "type": "string"
        },
        {
         "name": "league_id",
         "rawType": "int64",
         "type": "integer"
        },
        {
         "name": "country",
         "rawType": "object",
         "type": "string"
        },
        {
         "name": "rating",
         "rawType": "int64",
         "type": "integer"
        },
        {
         "name": "attack_rating",
         "rawType": "int64",
         "type": "integer"
        },
        {
         "name": "midfield_rating",
         "rawType": "int64",
         "type": "integer"
        },
        {
         "name": "defense_rating",
         "rawType": "int64",
         "type": "integer"
        },
        {
         "name": "stadium",
         "rawType": "object",
         "type": "string"
        },
        {
         "name": "manager",
         "rawType": "object",
         "type": "string"
        },
        {
         "name": "manager_id",
         "rawType": "float64",
         "type": "float"
        },
        {
         "name": "manager_url",
         "rawType": "object",
         "type": "string"
        },
        {
         "name": "club_worth",
         "rawType": "object",
         "type": "string"
        },
        {
         "name": "starting_xi_avg_age",
         "rawType": "float64",
         "type": "float"
        },
        {
         "name": "whole_team_avg_age",
         "rawType": "float64",
         "type": "float"
        },
        {
         "name": "rival_team",
         "rawType": "object",
         "type": "string"
        },
        {
         "name": "players_count",
         "rawType": "int64",
         "type": "integer"
        },
        {
         "name": "top_players",
         "rawType": "object",
         "type": "string"
        },
        {
         "name": "club_logo",
         "rawType": "object",
         "type": "string"
        },
        {
         "name": "country_flag",
         "rawType": "object",
         "type": "string"
        },
        {
         "name": "url",
         "rawType": "object",
         "type": "string"
        }
       ],
       "ref": "f070074f-e797-4fd4-80f5-18924a1e9634",
       "rows": [
        [
         "0",
         "9",
         "Liverpool",
         "Premier League",
         "13",
         "England",
         "85",
         "85",
         "85",
         "84",
         "Anfield",
         "arne slot",
         "23180.0",
         "https://sofifa.com/coach/23180/arne-slot/",
         "€4.7B",
         "26.45",
         "24.64",
         "Manchester United",
         "28",
         "83 H. Ekitiké, 88 A. Isak, 83 D. Szoboszlai, 80 C. Jones, 89 F. Wirtz",
         "https://cdn.sofifa.net/meta/team/8/120.png",
         "https://cdn.sofifa.net/flags/gb-eng.png",
         "https://sofifa.com/team/9/liverpool/"
        ],
        [
         "1",
         "241",
         "FC Barcelona",
         "La Liga",
         "53",
         "Spain",
         "85",
         "85",
         "85",
         "83",
         "El Libertador",
         "hans dieter flick",
         "37352367.0",
         "https://sofifa.com/coach/37352367/hans-dieter-flick/",
         "€4.9B",
         "25.82",
         "23.43",
         "Real Madrid",
         "28",
         "88 R. Lewandowski, 83 Ferran Torres, 85 Dani Olmo, 80 Fermín, 60 Dro",
         "https://cdn.sofifa.net/meta/team/83/120.png",
         "https://cdn.sofifa.net/flags/es.png",
         "https://sofifa.com/team/241/fc-barcelona/"
        ],
        [
         "2",
         "243",
         "Real Madrid",
         "La Liga",
         "53",
         "Spain",
         "85",
         "88",
         "86",
         "83",
         "Estadio Santiago Bernabéu",
         "xabier alonso olano",
         "511.0",
         "https://sofifa.com/coach/511/xabier-alonso-olano/",
         "€5.8B",
         "25.27",
         "24.0",
         "FC Barcelona",
         "30",
         "91 K. Mbappé, 85 Rodrygo, 77 Endrick, 69 Gonzalo, 90 J. Bellingham",
         "https://cdn.sofifa.net/meta/team/3468/120.png",
         "https://cdn.sofifa.net/flags/es.png",
         "https://sofifa.com/team/243/real-madrid/"
        ],
        [
         "3",
         "1",
         "Arsenal",
         "Premier League",
         "13",
         "England",
         "84",
         "86",
         "84",
         "83",
         "Emirates Stadium",
         "mikel arteta amatriain",
         "307.0",
         "https://sofifa.com/coach/307/mikel-arteta-amatriain/",
         "€2.5B",
         "25.91",
         "25.42",
         "Tottenham Hotspur",
         "24",
         "83 L. Trossard, 83 E. Eze, 81 Gabriel Martinelli, 87 V. Gyökeres, 82 K. Havertz",
         "https://cdn.sofifa.net/meta/team/19/120.png",
         "https://cdn.sofifa.net/flags/gb-eng.png",
         "https://sofifa.com/team/1/arsenal/"
        ],
        [
         "4",
         "10",
         "Manchester City",
         "Premier League",
         "13",
         "England",
         "84",
         "82",
         "85",
         "82",
         "Etihad Stadium",
         "josep guardiola i sala",
         "455361.0",
         "https://sofifa.com/coach/455361/josep-guardiola-i-sala/",
         "€4.6B",
         "24.91",
         "25.58",
         "Manchester United",
         "26",
         "80 J. Doku, 90 E. Haaland, 84 O. Marmoush, 74 O. Bobb, 81 R. Cherki",
         "https://cdn.sofifa.net/meta/team/9/120.png",
         "https://cdn.sofifa.net/flags/gb-eng.png",
         "https://sofifa.com/team/10/manchester-city/"
        ]
       ],
       "shape": {
        "columns": 22,
        "rows": 5
       }
      },
      "text/html": [
       "<div>\n",
       "<style scoped>\n",
       "    .dataframe tbody tr th:only-of-type {\n",
       "        vertical-align: middle;\n",
       "    }\n",
       "\n",
       "    .dataframe tbody tr th {\n",
       "        vertical-align: top;\n",
       "    }\n",
       "\n",
       "    .dataframe thead th {\n",
       "        text-align: right;\n",
       "    }\n",
       "</style>\n",
       "<table border=\"1\" class=\"dataframe\">\n",
       "  <thead>\n",
       "    <tr style=\"text-align: right;\">\n",
       "      <th></th>\n",
       "      <th>club_id</th>\n",
       "      <th>name</th>\n",
       "      <th>league</th>\n",
       "      <th>league_id</th>\n",
       "      <th>country</th>\n",
       "      <th>rating</th>\n",
       "      <th>attack_rating</th>\n",
       "      <th>midfield_rating</th>\n",
       "      <th>defense_rating</th>\n",
       "      <th>stadium</th>\n",
       "      <th>...</th>\n",
       "      <th>manager_url</th>\n",
       "      <th>club_worth</th>\n",
       "      <th>starting_xi_avg_age</th>\n",
       "      <th>whole_team_avg_age</th>\n",
       "      <th>rival_team</th>\n",
       "      <th>players_count</th>\n",
       "      <th>top_players</th>\n",
       "      <th>club_logo</th>\n",
       "      <th>country_flag</th>\n",
       "      <th>url</th>\n",
       "    </tr>\n",
       "  </thead>\n",
       "  <tbody>\n",
       "    <tr>\n",
       "      <th>0</th>\n",
       "      <td>9</td>\n",
       "      <td>Liverpool</td>\n",
       "      <td>Premier League</td>\n",
       "      <td>13</td>\n",
       "      <td>England</td>\n",
       "      <td>85</td>\n",
       "      <td>85</td>\n",
       "      <td>85</td>\n",
       "      <td>84</td>\n",
       "      <td>Anfield</td>\n",
       "      <td>...</td>\n",
       "      <td>https://sofifa.com/coach/23180/arne-slot/</td>\n",
       "      <td>€4.7B</td>\n",
       "      <td>26.45</td>\n",
       "      <td>24.64</td>\n",
       "      <td>Manchester United</td>\n",
       "      <td>28</td>\n",
       "      <td>83 H. Ekitiké, 88 A. Isak, 83 D. Szoboszlai, 8...</td>\n",
       "      <td>https://cdn.sofifa.net/meta/team/8/120.png</td>\n",
       "      <td>https://cdn.sofifa.net/flags/gb-eng.png</td>\n",
       "      <td>https://sofifa.com/team/9/liverpool/</td>\n",
       "    </tr>\n",
       "    <tr>\n",
       "      <th>1</th>\n",
       "      <td>241</td>\n",
       "      <td>FC Barcelona</td>\n",
       "      <td>La Liga</td>\n",
       "      <td>53</td>\n",
       "      <td>Spain</td>\n",
       "      <td>85</td>\n",
       "      <td>85</td>\n",
       "      <td>85</td>\n",
       "      <td>83</td>\n",
       "      <td>El Libertador</td>\n",
       "      <td>...</td>\n",
       "      <td>https://sofifa.com/coach/37352367/hans-dieter-...</td>\n",
       "      <td>€4.9B</td>\n",
       "      <td>25.82</td>\n",
       "      <td>23.43</td>\n",
       "      <td>Real Madrid</td>\n",
       "      <td>28</td>\n",
       "      <td>88 R. Lewandowski, 83 Ferran Torres, 85 Dani O...</td>\n",
       "      <td>https://cdn.sofifa.net/meta/team/83/120.png</td>\n",
       "      <td>https://cdn.sofifa.net/flags/es.png</td>\n",
       "      <td>https://sofifa.com/team/241/fc-barcelona/</td>\n",
       "    </tr>\n",
       "    <tr>\n",
       "      <th>2</th>\n",
       "      <td>243</td>\n",
       "      <td>Real Madrid</td>\n",
       "      <td>La Liga</td>\n",
       "      <td>53</td>\n",
       "      <td>Spain</td>\n",
       "      <td>85</td>\n",
       "      <td>88</td>\n",
       "      <td>86</td>\n",
       "      <td>83</td>\n",
       "      <td>Estadio Santiago Bernabéu</td>\n",
       "      <td>...</td>\n",
       "      <td>https://sofifa.com/coach/511/xabier-alonso-olano/</td>\n",
       "      <td>€5.8B</td>\n",
       "      <td>25.27</td>\n",
       "      <td>24.00</td>\n",
       "      <td>FC Barcelona</td>\n",
       "      <td>30</td>\n",
       "      <td>91 K. Mbappé, 85 Rodrygo, 77 Endrick, 69 Gonza...</td>\n",
       "      <td>https://cdn.sofifa.net/meta/team/3468/120.png</td>\n",
       "      <td>https://cdn.sofifa.net/flags/es.png</td>\n",
       "      <td>https://sofifa.com/team/243/real-madrid/</td>\n",
       "    </tr>\n",
       "    <tr>\n",
       "      <th>3</th>\n",
       "      <td>1</td>\n",
       "      <td>Arsenal</td>\n",
       "      <td>Premier League</td>\n",
       "      <td>13</td>\n",
       "      <td>England</td>\n",
       "      <td>84</td>\n",
       "      <td>86</td>\n",
       "      <td>84</td>\n",
       "      <td>83</td>\n",
       "      <td>Emirates Stadium</td>\n",
       "      <td>...</td>\n",
       "      <td>https://sofifa.com/coach/307/mikel-arteta-amat...</td>\n",
       "      <td>€2.5B</td>\n",
       "      <td>25.91</td>\n",
       "      <td>25.42</td>\n",
       "      <td>Tottenham Hotspur</td>\n",
       "      <td>24</td>\n",
       "      <td>83 L. Trossard, 83 E. Eze, 81 Gabriel Martinel...</td>\n",
       "      <td>https://cdn.sofifa.net/meta/team/19/120.png</td>\n",
       "      <td>https://cdn.sofifa.net/flags/gb-eng.png</td>\n",
       "      <td>https://sofifa.com/team/1/arsenal/</td>\n",
       "    </tr>\n",
       "    <tr>\n",
       "      <th>4</th>\n",
       "      <td>10</td>\n",
       "      <td>Manchester City</td>\n",
       "      <td>Premier League</td>\n",
       "      <td>13</td>\n",
       "      <td>England</td>\n",
       "      <td>84</td>\n",
       "      <td>82</td>\n",
       "      <td>85</td>\n",
       "      <td>82</td>\n",
       "      <td>Etihad Stadium</td>\n",
       "      <td>...</td>\n",
       "      <td>https://sofifa.com/coach/455361/josep-guardiol...</td>\n",
       "      <td>€4.6B</td>\n",
       "      <td>24.91</td>\n",
       "      <td>25.58</td>\n",
       "      <td>Manchester United</td>\n",
       "      <td>26</td>\n",
       "      <td>80 J. Doku, 90 E. Haaland, 84 O. Marmoush, 74 ...</td>\n",
       "      <td>https://cdn.sofifa.net/meta/team/9/120.png</td>\n",
       "      <td>https://cdn.sofifa.net/flags/gb-eng.png</td>\n",
       "      <td>https://sofifa.com/team/10/manchester-city/</td>\n",
       "    </tr>\n",
       "  </tbody>\n",
       "</table>\n",
       "<p>5 rows × 22 columns</p>\n",
       "</div>"
      ],
      "text/plain": [
       "   club_id             name          league  league_id  country  rating  \\\n",
       "0        9        Liverpool  Premier League         13  England      85   \n",
       "1      241     FC Barcelona         La Liga         53    Spain      85   \n",
       "2      243      Real Madrid         La Liga         53    Spain      85   \n",
       "3        1          Arsenal  Premier League         13  England      84   \n",
       "4       10  Manchester City  Premier League         13  England      84   \n",
       "\n",
       "   attack_rating  midfield_rating  defense_rating                    stadium  \\\n",
       "0             85               85              84                    Anfield   \n",
       "1             85               85              83              El Libertador   \n",
       "2             88               86              83  Estadio Santiago Bernabéu   \n",
       "3             86               84              83           Emirates Stadium   \n",
       "4             82               85              82             Etihad Stadium   \n",
       "\n",
       "   ...                                        manager_url  club_worth  \\\n",
       "0  ...          https://sofifa.com/coach/23180/arne-slot/       €4.7B   \n",
       "1  ...  https://sofifa.com/coach/37352367/hans-dieter-...       €4.9B   \n",
       "2  ...  https://sofifa.com/coach/511/xabier-alonso-olano/       €5.8B   \n",
       "3  ...  https://sofifa.com/coach/307/mikel-arteta-amat...       €2.5B   \n",
       "4  ...  https://sofifa.com/coach/455361/josep-guardiol...       €4.6B   \n",
       "\n",
       "  starting_xi_avg_age whole_team_avg_age         rival_team  players_count  \\\n",
       "0               26.45              24.64  Manchester United             28   \n",
       "1               25.82              23.43        Real Madrid             28   \n",
       "2               25.27              24.00       FC Barcelona             30   \n",
       "3               25.91              25.42  Tottenham Hotspur             24   \n",
       "4               24.91              25.58  Manchester United             26   \n",
       "\n",
       "                                         top_players  \\\n",
       "0  83 H. Ekitiké, 88 A. Isak, 83 D. Szoboszlai, 8...   \n",
       "1  88 R. Lewandowski, 83 Ferran Torres, 85 Dani O...   \n",
       "2  91 K. Mbappé, 85 Rodrygo, 77 Endrick, 69 Gonza...   \n",
       "3  83 L. Trossard, 83 E. Eze, 81 Gabriel Martinel...   \n",
       "4  80 J. Doku, 90 E. Haaland, 84 O. Marmoush, 74 ...   \n",
       "\n",
       "                                       club_logo  \\\n",
       "0     https://cdn.sofifa.net/meta/team/8/120.png   \n",
       "1    https://cdn.sofifa.net/meta/team/83/120.png   \n",
       "2  https://cdn.sofifa.net/meta/team/3468/120.png   \n",
       "3    https://cdn.sofifa.net/meta/team/19/120.png   \n",
       "4     https://cdn.sofifa.net/meta/team/9/120.png   \n",
       "\n",
       "                              country_flag  \\\n",
       "0  https://cdn.sofifa.net/flags/gb-eng.png   \n",
       "1      https://cdn.sofifa.net/flags/es.png   \n",
       "2      https://cdn.sofifa.net/flags/es.png   \n",
       "3  https://cdn.sofifa.net/flags/gb-eng.png   \n",
       "4  https://cdn.sofifa.net/flags/gb-eng.png   \n",
       "\n",
       "                                           url  \n",
       "0         https://sofifa.com/team/9/liverpool/  \n",
       "1    https://sofifa.com/team/241/fc-barcelona/  \n",
       "2     https://sofifa.com/team/243/real-madrid/  \n",
       "3           https://sofifa.com/team/1/arsenal/  \n",
       "4  https://sofifa.com/team/10/manchester-city/  \n",
       "\n",
       "[5 rows x 22 columns]"
      ]
     },
     "execution_count": 2,
     "metadata": {},
     "output_type": "execute_result"
    }
   ],
   "source": [
    "# 2. Load CSV\n",
    "clubs = pd.read_csv(\"../Scrapping/Data/Clubs/club_stats.csv\")\n",
    "clubs.head() #display the first 5 rows\n"
   ]
  },
  {
   "cell_type": "markdown",
   "id": "1bcf8fec",
   "metadata": {},
   "source": [
    "- Each row: one football club\n",
    "- Columns: attributes scraped (e.g., `rating`, `league`, `manager`, `country`, ...)"
   ]
  },
  {
   "cell_type": "markdown",
   "id": "782315d3",
   "metadata": {},
   "source": [
    "### Cleaning and preparing data\n",
    "In this section, we remove **unused columns** and clean **text/numeric** fields to make them analysis-ready."
   ]
  },
  {
   "cell_type": "markdown",
   "id": "532992e5",
   "metadata": {},
   "source": [
    "#### Remove unused columns, strip text, and convert numeric values"
   ]
  },
  {
   "cell_type": "code",
   "execution_count": 3,
   "id": "53d7b042",
   "metadata": {},
   "outputs": [
    {
     "name": "stdout",
     "output_type": "stream",
     "text": [
      "<class 'pandas.core.frame.DataFrame'>\n",
      "RangeIndex: 662 entries, 0 to 661\n",
      "Data columns (total 22 columns):\n",
      " #   Column               Non-Null Count  Dtype  \n",
      "---  ------               --------------  -----  \n",
      " 0   club_id              662 non-null    int64  \n",
      " 1   name                 662 non-null    object \n",
      " 2   league               662 non-null    object \n",
      " 3   league_id            662 non-null    int64  \n",
      " 4   country              662 non-null    object \n",
      " 5   rating               662 non-null    int64  \n",
      " 6   attack_rating        662 non-null    int64  \n",
      " 7   midfield_rating      662 non-null    int64  \n",
      " 8   defense_rating       662 non-null    int64  \n",
      " 9   stadium              662 non-null    object \n",
      " 10  manager              634 non-null    object \n",
      " 11  manager_id           634 non-null    float64\n",
      " 12  manager_url          634 non-null    object \n",
      " 13  club_worth           662 non-null    object \n",
      " 14  starting_xi_avg_age  662 non-null    float64\n",
      " 15  whole_team_avg_age   662 non-null    float64\n",
      " 16  rival_team           662 non-null    object \n",
      " 17  players_count        662 non-null    int64  \n",
      " 18  top_players          662 non-null    object \n",
      " 19  club_logo            662 non-null    object \n",
      " 20  country_flag         662 non-null    object \n",
      " 21  url                  662 non-null    object \n",
      "dtypes: float64(3), int64(7), object(12)\n",
      "memory usage: 113.9+ KB\n",
      "Missing managers: 28\n"
     ]
    }
   ],
   "source": [
    "# 🧹 3. Clean / Prepare\n",
    "clubs.info()\n",
    "\n",
    "# --- 1. Strip whitespace--\n",
    "text_cols = [\"name\", \"league\", \"country\", \"stadium\", \"manager\", \"rival_team\"]\n",
    "clubs[text_cols] = clubs[text_cols].apply(lambda col: col.str.strip())\n",
    "\n",
    "# turn billions and millions into numeric value 10m -> 10\n",
    "\n",
    "\n",
    "def parse_club_worth(value):\n",
    "    if isinstance(value, str):\n",
    "        v = value.replace(\"€\", \"\").replace(\",\", \"\").strip().upper()\n",
    "        try:\n",
    "            if \"B\" in v:\n",
    "                return float(v.replace(\"B\", \"\")) * 1000      # billions → millions\n",
    "            elif \"M\" in v:\n",
    "                return float(v.replace(\"M\", \"\"))             # millions\n",
    "            elif \"K\" in v:\n",
    "                return float(v.replace(\"K\", \"\")) / 1000      # thousands → millions\n",
    "            elif v != \"\":\n",
    "                return float(v) / 1_000_000                  # raw number → millions\n",
    "        except ValueError:\n",
    "            return np.nan\n",
    "    return np.nan\n",
    "\n",
    "\n",
    "\n",
    "clubs[\"club_worth_million\"] = clubs[\"club_worth\"].apply(parse_club_worth)\n",
    "\n",
    "\n",
    "# --- 3. Check missing managers ---\n",
    "print(\"Missing managers:\", clubs[\"manager\"].isna().sum())\n",
    "\n",
    "# --- 4. Drop useless URL columns for now ---\n",
    "clubs = clubs.drop(columns=[\"club_logo\", \"country_flag\", \"manager_url\", \"url\"])\n"
   ]
  },
  {
   "cell_type": "markdown",
   "id": "885e3492",
   "metadata": {},
   "source": [
    "We cleaned and standardized the dataset to make it ready for analysis:\n",
    "\n",
    "- **Removed** extra spaces in text columns (e.g., `league`, `country`, `manager`).\n",
    "- **Converted** `club_worth` from strings like \"€4.7B\" or \"€850M\" into a numeric column `club_worth_million` (values in millions).\n",
    "- **Dropped** unused URL/image columns to simplify the data (`club_logo`, `country_flag`, `manager_url`, `url`).\n",
    "- **Left** missing managers as `NaN` since they don’t affect numeric analysis."
   ]
  },
  {
   "cell_type": "markdown",
   "id": "b3f7e332",
   "metadata": {},
   "source": [
    "#### Standardize league names\n",
    "We unify naming and fix minor errors (e.g., **\"Liga 1\" → \"Liga I\"**)."
   ]
  },
  {
   "cell_type": "code",
   "execution_count": 4,
   "id": "7267c9cc",
   "metadata": {},
   "outputs": [
    {
     "name": "stdout",
     "output_type": "stream",
     "text": [
      "Total unique leagues: 42\n",
      "\n",
      "1. Division\n",
      "2. Bundesliga\n",
      "3. Liga\n",
      "A-League Men\n",
      "Allsvenskan\n",
      "Bundesliga\n",
      "Categoría Primera A\n",
      "Championship\n",
      "División Profesional\n",
      "División de Fútbol Profesional\n",
      "Ekstraklasa\n",
      "Eliteserien\n",
      "Eredivisie\n",
      "Hrvatska nogometna liga\n",
      "K League 1\n",
      "La Liga\n",
      "La Liga 2\n",
      "League One\n",
      "League Two\n",
      "Liga 1\n",
      "Liga I\n",
      "Liga Profesional de Fútbol\n",
      "Ligue 1\n",
      "Ligue 2\n",
      "Major League Soccer\n",
      "Nemzeti Bajnokság I\n",
      "Premier Division\n",
      "Premier League\n",
      "Premiership\n",
      "Premyer Liqa\n",
      "Primeira Liga\n",
      "Primera Division\n",
      "Primera División\n",
      "Pro League\n",
      "První liga\n",
      "Serie A\n",
      "Serie B\n",
      "Super League\n",
      "Superliga\n",
      "Série A\n",
      "Süper Lig\n",
      "Veikkausliiga\n"
     ]
    }
   ],
   "source": [
    "# 📊 Display all unique league names sorted alphabetically\n",
    "unique_leagues = sorted(clubs[\"league\"].dropna().unique())\n",
    "\n",
    "print(f\"Total unique leagues: {len(unique_leagues)}\\n\")\n",
    "for league in unique_leagues:\n",
    "    print(league)\n"
   ]
  },
  {
   "cell_type": "code",
   "execution_count": null,
   "id": "3633ff43",
   "metadata": {},
   "outputs": [
    {
     "name": "stdout",
     "output_type": "stream",
     "text": [
      "Unique league names after cleaning:\n",
      "\n",
      "['1. Division (Generic)', '2. Bundesliga', '3. Liga', 'A-League Men', 'Allsvenskan', 'Belgian Pro League', 'Bundesliga', 'Czech First League', 'División de Fútbol Profesional', 'EFL Championship', 'EFL League One', 'EFL League Two', 'Ekstraklasa', 'Eliteserien', 'Eredivisie', 'Hrvatska nogometna liga', 'Irish Premier Division', 'K League 1', 'La Liga', 'La Liga 2', 'Liga I', 'Ligue 1 Uber Eats', 'Ligue 2 BKT', 'Major League Soccer', 'Nemzeti Bajnokság I', 'Premier League', 'Premyer Liqa', 'Primeira Liga', 'Primera División', 'Scottish Premiership', 'Serie A', 'Serie B', 'Superliga', 'Swiss Super League', 'Turkish Süper Lig', 'Veikkausliiga']\n"
     ]
    }
   ],
   "source": [
    "# ⚙️ Standardize league names\n",
    "league_replacements = {\n",
    "    # Spanish / Latin American\n",
    "    \"Primera Division\": \"Primera División\",\n",
    "    \"División Profesional\": \"División de Fútbol Profesional\",\n",
    "    \"Categoría Primera A\": \"Primera División\",\n",
    "    \"Liga Profesional de Fútbol\": \"Primera División\",\n",
    "\n",
    "    # French\n",
    "    \"Ligue 1\": \"Ligue 1 Uber Eats\",\n",
    "    \"Ligue 2\": \"Ligue 2 BKT\",\n",
    "\n",
    "    # Italian / Brazilian\n",
    "    \"Serie A\": \"Serie A\",\n",
    "    \"Série A\": \"Serie A\",      # unify accent variant\n",
    "    \"Serie B\": \"Serie B\",\n",
    "\n",
    "    # English\n",
    "    \"Premier League\": \"Premier League\",\n",
    "    \"Championship\": \"EFL Championship\",\n",
    "    \"League One\": \"EFL League One\",\n",
    "    \"League Two\": \"EFL League Two\",\n",
    "\n",
    "    # Other European\n",
    "    \"Bundesliga\": \"Bundesliga\",\n",
    "    \"Liga 1\": \"Liga I\",       # unify Romania\n",
    "    \"Liga I\": \"Liga I\",\n",
    "    \"Pro League\": \"Belgian Pro League\",\n",
    "    \"Super League\": \"Swiss Super League\",\n",
    "    \"Superliga\": \"Superliga\",\n",
    "    \"Süper Lig\": \"Turkish Süper Lig\",\n",
    "    \"První liga\": \"Czech First League\",\n",
    "\n",
    "    \"Premier Division\": \"Irish Premier Division\",\n",
    "    \"Premiership\": \"Scottish Premiership\",\n",
    "    \"1. Division\": \"Cypriot First Division\",\n",
    "    \"Liga\": \"Liga (Generic)\"\n",
    "}\n",
    "\n",
    "clubs[\"league\"] = clubs[\"league\"].replace(league_replacements)\n",
    "print(\"Unique league names after cleaning:\\n\")\n",
    "print(sorted(clubs[\"league\"].unique()))\n"
   ]
  },
  {
   "cell_type": "markdown",
   "id": "e95fa42f",
   "metadata": {},
   "source": [
    "### 🧭 Analysis: League Performance Efficiency (Adjusted for Wealth)\n",
    "\n",
    "In this section, we compare football leagues based on how efficiently they **convert financial resources into on-field performance**.\n",
    "\n",
    "#### ⚙️ Methodology\n",
    "- For each league, we compute:\n",
    "  - **Average Club Rating** (`rating`) → overall sporting performance.\n",
    "  - **Average Club Worth (€M)** (`club_worth_million`) → financial strength.\n",
    "- Instead of a direct ratio (`rating / worth`), we use a **logarithmic adjustment**:\n",
    "\n",
    "$$\n",
    "\\text{Efficiency}\n",
    "= \\frac{\\text{Average Rating}}{\\ln\\!\\big(1 + \\text{Average Club Worth (M€)}\\big)}\n",
    "$$\n",
    "We use **log(1 + x)** to:\n",
    "- avoid undefined values when wealth = 0,\n",
    "\n",
    "- stabilize the scale for small clubs,\n",
    "\n",
    "preserve fairness across different magnitudes.\n",
    "**Why log(1 + worth)?**\n",
    "- **Diminishing returns:** spending more brings smaller relative gains; log compresses very large budgets.\n",
    "- **Comparability:** narrows huge wealth gaps across leagues, making “performance per unit of financial power” more comparable.\n",
    "\n",
    "#### 🎨 Visualization\n",
    "- **Bar = league**\n",
    "- **x-axis = adjusted efficiency score**\n",
    "- **Color scale:** warmer colors (reds/yellows) → higher efficiency; cooler colors (blues) → lower efficiency.\n",
    "\n",
    "#### 🧠 Interpretation\n",
    "- **High-efficiency leagues** (e.g., Irish Premier Division, lower English divisions) show strong performance relative to modest budgets — they *punch above their weight*.\n",
    "- **Low-efficiency leagues** (e.g., top European leagues) are strong in absolute performance, but very high club values reduce the efficiency score.\n",
    "- Log scaling helps evaluate leagues **fairly across economic contexts**, avoiding excessive penalization of smaller markets.\n",
    "\n",
    "#### 📊 Insights\n",
    "- Captures **economic sustainability in performance** — doing more with less.\n",
    "- Helps surface **overachieving leagues or undervalued markets**.\n",
    "\n",
    "#### 💡 Key Takeaways\n",
    "- Smaller/developing leagues often show **high efficiency**.\n",
    "- Wealthier leagues dominate in absolute performance but not necessarily in efficiency.\n",
    "- Highlights the trade-off between **spending power** and **return on performance**."
   ]
  },
  {
   "cell_type": "code",
   "execution_count": 6,
   "id": "78ace003",
   "metadata": {},
   "outputs": [
    {
     "name": "stderr",
     "output_type": "stream",
     "text": [
      "C:\\Users\\job\\AppData\\Local\\Temp\\ipykernel_2772\\2358241505.py:27: FutureWarning: \n",
      "\n",
      "Passing `palette` without assigning `hue` is deprecated and will be removed in v0.14.0. Assign the `y` variable to `hue` and set `legend=False` for the same effect.\n",
      "\n",
      "  ax = sns.barplot(\n"
     ]
    },
    {
     "data": {
      "image/png": "[encoded data removed]",
      "text/plain": [
       "<Figure size 900x600 with 1 Axes>"
      ]
     },
     "metadata": {},
     "output_type": "display_data"
    }
   ],
   "source": [
    "import matplotlib.pyplot as plt\n",
    "import seaborn as sns\n",
    "import numpy as np\n",
    "\n",
    "# --- Compute league performance ---\n",
    "league_perf = (\n",
    "    clubs.groupby(\"league\")[[\"rating\", \"club_worth_million\"]]\n",
    "    .mean()\n",
    "    .reset_index()\n",
    ")\n",
    "\n",
    "# --- Efficiency formula: adjusted for wealth using log(1 + worth) ---\n",
    "league_perf = league_perf[league_perf[\"club_worth_million\"] > 0].copy()\n",
    "league_perf[\"efficiency\"] = league_perf[\"rating\"] / np.log1p(league_perf[\"club_worth_million\"])\n",
    "\n",
    "# --- Sort top leagues ---\n",
    "league_eff = league_perf.sort_values(\"efficiency\", ascending=False).head(15)\n",
    "\n",
    "# --- Reset index for clean plotting ---\n",
    "league_eff = league_eff.reset_index(drop=True)\n",
    "\n",
    "# --- Palette ---\n",
    "palette = sns.color_palette(\"Spectral_r\", n_colors=len(league_eff))\n",
    "\n",
    "# --- Create figure ---\n",
    "plt.figure(figsize=(9, 6))\n",
    "ax = sns.barplot(\n",
    "    data=league_eff,\n",
    "    y=\"league\",\n",
    "    x=\"efficiency\",\n",
    "    palette=palette\n",
    ")\n",
    "\n",
    "# --- Add text labels (inside bars or to the right if too small) ---\n",
    "for i, (eff, league) in enumerate(zip(league_eff[\"efficiency\"], league_eff[\"league\"])):\n",
    "    if eff > league_eff[\"efficiency\"].max() * 0.15:\n",
    "        # If bar is wide enough → white text inside bar\n",
    "        ax.text(eff - (eff * 0.05), i, f\"{eff:.1f}\", color=\"white\", va=\"center\", ha=\"right\", fontsize=9, weight=\"bold\")\n",
    "    else:\n",
    "        # Otherwise → black text outside\n",
    "        ax.text(eff + 0.5, i, f\"{eff:.1f}\", color=\"black\", va=\"center\", ha=\"left\", fontsize=9)\n",
    "\n",
    "# --- Titles and labels ---\n",
    "plt.title(\n",
    "    \"Performance Efficiency per League (Adjusted for Wealth)\",\n",
    "    fontsize=14, weight=\"bold\", pad=10\n",
    ")\n",
    "plt.suptitle(\n",
    "    \"Average Rating ÷ log(1 + Average Club Worth in €M)\\nHigher = Better performance relative to financial power\",\n",
    "    fontsize=10, color=\"gray\", y=0.93\n",
    ")\n",
    "plt.xlabel(\"Efficiency Index\", fontsize=11)\n",
    "plt.ylabel(\"\")\n",
    "plt.grid(axis=\"x\", linestyle=\"--\", alpha=0.5)\n",
    "sns.despine(left=True, bottom=True)\n",
    "\n",
    "plt.tight_layout()\n",
    "plt.show()\n"
   ]
  },
  {
   "cell_type": "code",
   "execution_count": 7,
   "id": "000fd796",
   "metadata": {},
   "outputs": [],
   "source": [
    "country_perf = (\n",
    "    clubs.groupby(\"country\")\n",
    "    .agg(\n",
    "        avg_rating=(\"rating\", \"mean\"),\n",
    "        avg_budget=(\"club_worth_million\", \"mean\"),\n",
    "        n_clubs=(\"name\", \"count\"),\n",
    "        top_clubs=(\"name\", lambda x: \", \".join(x.head(3)))\n",
    "    )\n",
    "    .reset_index()\n",
    ")\n"
   ]
  },
  {
   "cell_type": "code",
   "execution_count": 8,
   "id": "50f13969",
   "metadata": {},
   "outputs": [
    {
     "data": {
      "application/vnd.plotly.v1+json": {
       "config": {
        "plotlyServerURL": "https://plot.ly"
       },
       "data": [
        {
         "coloraxis": "coloraxis",
         "customdata": [
          [
           45.16,
           70.33333333333333,
           30,
           "River Plate, Boca Juniors, Racing Club"
          ],
          [
           8.1,
           62.76923076923077,
           13,
           "Auckland FC, Melbourne Victory, Sydney FC"
          ],
          [
           43.11666666666667,
           66.5,
           12,
           "FC Red Bull Salzburg, SK Rapid, FK Austria Wien"
          ],
          [
           28,
           68,
           1,
           "Qarabağ FK"
          ],
          [
           74.625,
           69.125,
           16,
           "KRC Genk, Union Saint-Gilloise, Club Brugge KV"
          ],
          [
           14.75,
           64.5,
           4,
           "Bolívar, Nacional Potosí, San Antonio Bulo Bulo"
          ],
          [
           209.75,
           72.78571428571429,
           14,
           "Flamengo, Botafogo, Atlético Mineiro"
          ],
          [
           30.183333333333334,
           67.83333333333333,
           6,
           "Colo-Colo, Universidad de Chile, Universidad Católica"
          ],
          [
           8.83125,
           63.875,
           16,
           "Shanghai Shenhua, Shanghai Port, Beijing Guoan"
          ],
          [
           27.625,
           69.75,
           4,
           "Atlético Nacional, Atlético Bucaramanga, América de Cali"
          ],
          [
           71.5,
           70.5,
           2,
           "Dinamo Zagreb, Hajduk Split"
          ],
          [
           35,
           68,
           1,
           "APOEL FC"
          ],
          [
           56.666666666666664,
           73.33333333333333,
           3,
           "SK Slavia Praha, Sparta Praha, Viktoria Plzeň"
          ],
          [
           17,
           67.16666666666667,
           12,
           "FC København, FC Midtjylland, Brøndby IF"
          ],
          [
           28.2,
           68.2,
           5,
           "LDU Quito, Independiente del Valle, Barcelona de Guayaquil"
          ],
          [
           355.11304347826086,
           68.66304347826087,
           92,
           "Liverpool, Arsenal, Manchester City"
          ],
          [
           6.5,
           64,
           1,
           "HJK Helsinki"
          ],
          [
           207.79166666666666,
           70.08333333333333,
           36,
           "Paris Saint-Germain, Olympique de Marseille, AS Monaco"
          ],
          [
           204.06785714285712,
           69.26785714285714,
           56,
           "FC Bayern München, Borussia Dortmund, Bayer 04 Leverkusen"
          ],
          [
           76.75,
           74.5,
           4,
           "Olympiacos FC, AEK Athens, Panathinaikos FC"
          ],
          [
           49,
           72,
           1,
           "Ferencvárosi Torna Club"
          ],
          [
           2.9285714285714284,
           58.357142857142854,
           14,
           "Mohun Bagan Super Giant, FC Goa, Mohammedan SC"
          ],
          [
           252.97750000000002,
           72.15,
           40,
           "Inter, Napoli, Juventus"
          ],
          [
           12.833333333333334,
           66.5,
           12,
           "Ulsan HD FC, Jeonbuk Hyundai Motors, Pohang Steelers"
          ],
          [
           124.19444444444444,
           69.22222222222223,
           18,
           "PSV, Ajax, Feyenoord"
          ],
          [
           7.8125,
           65.75,
           16,
           "FK Bodø/Glimt, Rosenborg BK, Molde FK"
          ],
          [
           27.160000000000004,
           67.4,
           5,
           "Cerro Porteño, Libertad, Guaraní"
          ],
          [
           23.099999999999998,
           68.16666666666667,
           6,
           "Alianza Lima, Universitario de Deportes, Sporting Cristal"
          ],
          [
           10.444444444444445,
           66.83333333333333,
           18,
           "Legia Warszawa, Lech Poznań, Raków Częstochowa"
          ],
          [
           85.61111111111111,
           70.66666666666667,
           18,
           "Sporting CP, SL Benfica, FC Porto"
          ],
          [
           0.9841,
           59.6,
           10,
           "Shamrock Rovers, St Patrick's Athletic FC, Shelbourne FC"
          ],
          [
           6.41875,
           65.4375,
           16,
           "FCSB, CFR Cluj, Universitatea Craiova"
          ],
          [
           47.68888888888889,
           68.94444444444444,
           18,
           "Al Hilal, Al Nassr, Al Ittihad"
          ],
          [
           15.833333333333334,
           66.5,
           12,
           "Celtic, Rangers FC, Hearts"
          ],
          [
           352.0333333333333,
           72.57142857142857,
           42,
           "FC Barcelona, Real Madrid, Atlético Madrid"
          ],
          [
           10.9375,
           65.8125,
           16,
           "Malmö FF, BK Häcken, Hammarby Fotboll"
          ],
          [
           33.55833333333333,
           67.25,
           12,
           "FC Basel 1893, FC Lugano, BSC Young Boys"
          ],
          [
           69.48888888888888,
           71.27777777777777,
           18,
           "Galatasaray SK, Fenerbahçe SK, Beşiktaş JK"
          ],
          [
           130,
           72,
           2,
           "Dynamo Kyiv, Shakhtar Donetsk"
          ],
          [
           76,
           69,
           1,
           "Al Ain"
          ],
          [
           288.69666666666666,
           69.2,
           30,
           "Inter Miami, Seattle Sounders FC, Los Angeles FC"
          ],
          [
           25.7,
           67.2,
           5,
           "Peñarol, Club Nacional de Football, Boston River"
          ],
          [
           14.075,
           65.75,
           4,
           "Deportivo Táchira, Carabobo FC, Caracas FC"
          ]
         ],
         "geo": "geo",
         "hovertemplate": "<b>%{hovertext}</b><br><br>country=%{location}<br>avg_budget=%{z}<br>avg_rating=%{customdata[1]}<br>n_clubs=%{customdata[2]}<br>top_clubs=%{customdata[3]}<extra></extra>",
         "hovertext": [
          "Argentina",
          "Australia",
          "Austria",
          "Azerbaijan",
          "Belgium",
          "Bolivia",
          "Brazil",
          "Chile",
          "China PR",
          "Colombia",
          "Croatia",
          "Cyprus",
          "Czechia",
          "Denmark",
          "Ecuador",
          "England",
          "Finland",
          "France",
          "Germany",
          "Greece",
          "Hungary",
          "India",
          "Italy",
          "Korea Republic",
          "Netherlands",
          "Norway",
          "Paraguay",
          "Peru",
          "Poland",
          "Portugal",
          "Republic of Ireland",
          "Romania",
          "Saudi Arabia",
          "Scotland",
          "Spain",
          "Sweden",
          "Switzerland",
          "Türkiye",
          "Ukraine",
          "United Arab Emirates",
          "United States",
          "Uruguay",
          "Venezuela"
         ],
         "locationmode": "country names",
         "locations": [
          "Argentina",
          "Australia",
          "Austria",
          "Azerbaijan",
          "Belgium",
          "Bolivia",
          "Brazil",
          "Chile",
          "China PR",
          "Colombia",
          "Croatia",
          "Cyprus",
          "Czechia",
          "Denmark",
          "Ecuador",
          "England",
          "Finland",
          "France",
          "Germany",
          "Greece",
          "Hungary",
          "India",
          "Italy",
          "Korea Republic",
          "Netherlands",
          "Norway",
          "Paraguay",
          "Peru",
          "Poland",
          "Portugal",
          "Republic of Ireland",
          "Romania",
          "Saudi Arabia",
          "Scotland",
          "Spain",
          "Sweden",
          "Switzerland",
          "Türkiye",
          "Ukraine",
          "United Arab Emirates",
          "United States",
          "Uruguay",
          "Venezuela"
         ],
         "name": "",
         "type": "choropleth",
         "z": {
          "bdata": "FK5H4XqURkAzMzMzMzMgQO/u7u7ujkVAAAAAAAAAPEAAAAAAAKhSQAAAAAAAgC1AAAAAAAA4akDv7u7u7i4+QJqZmZmZqSFAAAAAAACgO0AAAAAAAOBRQAAAAAAAgEFAVVVVVVVVTEAAAAAAAAAxQDMzMzMzMzxAgaKtBs8xdkAAAAAAAAAaQFVVVVVV+WlA4iu+4iuCaUAAAAAAADBTQAAAAAAAgEhA27Zt27ZtB0DiehSuR59vQKuqqqqqqilAx3Ecx3EMX0AAAAAAAEAfQCpcj8L1KDtAmZmZmZkZN0A5juM4juMkQHIcx3EcZ1VAkst/SL997z/NzMzMzKwZQIMt2IIt2EdAq6qqqqqqL0CIiIiIiAB2QAAAAAAA4CVAd3d3d3fHQED0SZ/0SV9RQAAAAAAAQGBAAAAAAAAAU0C/WPKLJQtyQDMzMzMzszlAZmZmZmYmLEA=",
          "dtype": "f8"
         }
        }
       ],
       "layout": {
        "coloraxis": {
         "colorbar": {
          "title": {
           "text": "Avg Budget (€M)"
          }
         },
         "colorscale": [
          [
           0,
           "#440154"
          ],
          [
           0.1111111111111111,
           "#482878"
          ],
          [
           0.2222222222222222,
           "#3e4989"
          ],
          [
           0.3333333333333333,
           "#31688e"
          ],
          [
           0.4444444444444444,
           "#26828e"
          ],
          [
           0.5555555555555556,
           "#1f9e89"
          ],
          [
           0.6666666666666666,
           "#35b779"
          ],
          [
           0.7777777777777778,
           "#6ece58"
          ],
          [
           0.8888888888888888,
           "#b5de2b"
          ],
          [
           1,
           "#fde725"
          ]
         ]
        },
        "geo": {
         "center": {},
         "domain": {
          "x": [
           0,
           1
          ],
          "y": [
           0,
           1
          ]
         },
         "projection": {
          "type": "natural earth"
         },
         "showcoastlines": true,
         "showframe": false
        },
        "legend": {
         "tracegroupgap": 0
        },
        "template": {
         "data": {
          "bar": [
           {
            "error_x": {
             "color": "#2a3f5f"
            },
            "error_y": {
             "color": "#2a3f5f"
            },
            "marker": {
             "line": {
              "color": "#E5ECF6",
              "width": 0.5
             },
             "pattern": {
              "fillmode": "overlay",
              "size": 10,
              "solidity": 0.2
             }
            },
            "type": "bar"
           }
          ],
          "barpolar": [
           {
            "marker": {
             "line": {
              "color": "#E5ECF6",
              "width": 0.5
             },
             "pattern": {
              "fillmode": "overlay",
              "size": 10,
              "solidity": 0.2
             }
            },
            "type": "barpolar"
           }
          ],
          "carpet": [
           {
            "aaxis": {
             "endlinecolor": "#2a3f5f",
             "gridcolor": "white",
             "linecolor": "white",
             "minorgridcolor": "white",
             "startlinecolor": "#2a3f5f"
            },
            "baxis": {
             "endlinecolor": "#2a3f5f",
             "gridcolor": "white",
             "linecolor": "white",
             "minorgridcolor": "white",
             "startlinecolor": "#2a3f5f"
            },
            "type": "carpet"
           }
          ],
          "choropleth": [
           {
            "colorbar": {
             "outlinewidth": 0,
             "ticks": ""
            },
            "type": "choropleth"
           }
          ],
          "contour": [
           {
            "colorbar": {
             "outlinewidth": 0,
             "ticks": ""
            },
            "colorscale": [
             [
              0,
              "#0d0887"
             ],
             [
              0.1111111111111111,
              "#46039f"
             ],
             [
              0.2222222222222222,
              "#7201a8"
             ],
             [
              0.3333333333333333,
              "#9c179e"
             ],
             [
              0.4444444444444444,
              "#bd3786"
             ],
             [
              0.5555555555555556,
              "#d8576b"
             ],
             [
              0.6666666666666666,
              "#ed7953"
             ],
             [
              0.7777777777777778,
              "#fb9f3a"
             ],
             [
              0.8888888888888888,
              "#fdca26"
             ],
             [
              1,
              "#f0f921"
             ]
            ],
            "type": "contour"
           }
          ],
          "contourcarpet": [
           {
            "colorbar": {
             "outlinewidth": 0,
             "ticks": ""
            },
            "type": "contourcarpet"
           }
          ],
          "heatmap": [
           {
            "colorbar": {
             "outlinewidth": 0,
             "ticks": ""
            },
            "colorscale": [
             [
              0,
              "#0d0887"
             ],
             [
              0.1111111111111111,
              "#46039f"
             ],
             [
              0.2222222222222222,
              "#7201a8"
             ],
             [
              0.3333333333333333,
              "#9c179e"
             ],
             [
              0.4444444444444444,
              "#bd3786"
             ],
             [
              0.5555555555555556,
              "#d8576b"
             ],
             [
              0.6666666666666666,
              "#ed7953"
             ],
             [
              0.7777777777777778,
              "#fb9f3a"
             ],
             [
              0.8888888888888888,
              "#fdca26"
             ],
             [
              1,
              "#f0f921"
             ]
            ],
            "type": "heatmap"
           }
          ],
          "histogram": [
           {
            "marker": {
             "pattern": {
              "fillmode": "overlay",
              "size": 10,
              "solidity": 0.2
             }
            },
            "type": "histogram"
           }
          ],
          "histogram2d": [
           {
            "colorbar": {
             "outlinewidth": 0,
             "ticks": ""
            },
            "colorscale": [
             [
              0,
              "#0d0887"
             ],
             [
              0.1111111111111111,
              "#46039f"
             ],
             [
              0.2222222222222222,
              "#7201a8"
             ],
             [
              0.3333333333333333,
              "#9c179e"
             ],
             [
              0.4444444444444444,
              "#bd3786"
             ],
             [
              0.5555555555555556,
              "#d8576b"
             ],
             [
              0.6666666666666666,
              "#ed7953"
             ],
             [
              0.7777777777777778,
              "#fb9f3a"
             ],
             [
              0.8888888888888888,
              "#fdca26"
             ],
             [
              1,
              "#f0f921"
             ]
            ],
            "type": "histogram2d"
           }
          ],
          "histogram2dcontour": [
           {
            "colorbar": {
             "outlinewidth": 0,
             "ticks": ""
            },
            "colorscale": [
             [
              0,
              "#0d0887"
             ],
             [
              0.1111111111111111,
              "#46039f"
             ],
             [
              0.2222222222222222,
              "#7201a8"
             ],
             [
              0.3333333333333333,
              "#9c179e"
             ],
             [
              0.4444444444444444,
              "#bd3786"
             ],
             [
              0.5555555555555556,
              "#d8576b"
             ],
             [
              0.6666666666666666,
              "#ed7953"
             ],
             [
              0.7777777777777778,
              "#fb9f3a"
             ],
             [
              0.8888888888888888,
              "#fdca26"
             ],
             [
              1,
              "#f0f921"
             ]
            ],
            "type": "histogram2dcontour"
           }
          ],
          "mesh3d": [
           {
            "colorbar": {
             "outlinewidth": 0,
             "ticks": ""
            },
            "type": "mesh3d"
           }
          ],
          "parcoords": [
           {
            "line": {
             "colorbar": {
              "outlinewidth": 0,
              "ticks": ""
             }
            },
            "type": "parcoords"
           }
          ],
          "pie": [
           {
            "automargin": true,
            "type": "pie"
           }
          ],
          "scatter": [
           {
            "fillpattern": {
             "fillmode": "overlay",
             "size": 10,
             "solidity": 0.2
            },
            "type": "scatter"
           }
          ],
          "scatter3d": [
           {
            "line": {
             "colorbar": {
              "outlinewidth": 0,
              "ticks": ""
             }
            },
            "marker": {
             "colorbar": {
              "outlinewidth": 0,
              "ticks": ""
             }
            },
            "type": "scatter3d"
           }
          ],
          "scattercarpet": [
           {
            "marker": {
             "colorbar": {
              "outlinewidth": 0,
              "ticks": ""
             }
            },
            "type": "scattercarpet"
           }
          ],
          "scattergeo": [
           {
            "marker": {
             "colorbar": {
              "outlinewidth": 0,
              "ticks": ""
             }
            },
            "type": "scattergeo"
           }
          ],
          "scattergl": [
           {
            "marker": {
             "colorbar": {
              "outlinewidth": 0,
              "ticks": ""
             }
            },
            "type": "scattergl"
           }
          ],
          "scattermap": [
           {
            "marker": {
             "colorbar": {
              "outlinewidth": 0,
              "ticks": ""
             }
            },
            "type": "scattermap"
           }
          ],
          "scattermapbox": [
           {
            "marker": {
             "colorbar": {
              "outlinewidth": 0,
              "ticks": ""
             }
            },
            "type": "scattermapbox"
           }
          ],
          "scatterpolar": [
           {
            "marker": {
             "colorbar": {
              "outlinewidth": 0,
              "ticks": ""
             }
            },
            "type": "scatterpolar"
           }
          ],
          "scatterpolargl": [
           {
            "marker": {
             "colorbar": {
              "outlinewidth": 0,
              "ticks": ""
             }
            },
            "type": "scatterpolargl"
           }
          ],
          "scatterternary": [
           {
            "marker": {
             "colorbar": {
              "outlinewidth": 0,
              "ticks": ""
             }
            },
            "type": "scatterternary"
           }
          ],
          "surface": [
           {
            "colorbar": {
             "outlinewidth": 0,
             "ticks": ""
            },
            "colorscale": [
             [
              0,
              "#0d0887"
             ],
             [
              0.1111111111111111,
              "#46039f"
             ],
             [
              0.2222222222222222,
              "#7201a8"
             ],
             [
              0.3333333333333333,
              "#9c179e"
             ],
             [
              0.4444444444444444,
              "#bd3786"
             ],
             [
              0.5555555555555556,
              "#d8576b"
             ],
             [
              0.6666666666666666,
              "#ed7953"
             ],
             [
              0.7777777777777778,
              "#fb9f3a"
             ],
             [
              0.8888888888888888,
              "#fdca26"
             ],
             [
              1,
              "#f0f921"
             ]
            ],
            "type": "surface"
           }
          ],
          "table": [
           {
            "cells": {
             "fill": {
              "color": "#EBF0F8"
             },
             "line": {
              "color": "white"
             }
            },
            "header": {
             "fill": {
              "color": "#C8D4E3"
             },
             "line": {
              "color": "white"
             }
            },
            "type": "table"
           }
          ]
         },
         "layout": {
          "annotationdefaults": {
           "arrowcolor": "#2a3f5f",
           "arrowhead": 0,
           "arrowwidth": 1
          },
          "autotypenumbers": "strict",
          "coloraxis": {
           "colorbar": {
            "outlinewidth": 0,
            "ticks": ""
           }
          },
          "colorscale": {
           "diverging": [
            [
             0,
             "#8e0152"
            ],
            [
             0.1,
             "#c51b7d"
            ],
            [
             0.2,
             "#de77ae"
            ],
            [
             0.3,
             "#f1b6da"
            ],
            [
             0.4,
             "#fde0ef"
            ],
            [
             0.5,
             "#f7f7f7"
            ],
            [
             0.6,
             "#e6f5d0"
            ],
            [
             0.7,
             "#b8e186"
            ],
            [
             0.8,
             "#7fbc41"
            ],
            [
             0.9,
             "#4d9221"
            ],
            [
             1,
             "#276419"
            ]
           ],
           "sequential": [
            [
             0,
             "#0d0887"
            ],
            [
             0.1111111111111111,
             "#46039f"
            ],
            [
             0.2222222222222222,
             "#7201a8"
            ],
            [
             0.3333333333333333,
             "#9c179e"
            ],
            [
             0.4444444444444444,
             "#bd3786"
            ],
            [
             0.5555555555555556,
             "#d8576b"
            ],
            [
             0.6666666666666666,
             "#ed7953"
            ],
            [
             0.7777777777777778,
             "#fb9f3a"
            ],
            [
             0.8888888888888888,
             "#fdca26"
            ],
            [
             1,
             "#f0f921"
            ]
           ],
           "sequentialminus": [
            [
             0,
             "#0d0887"
            ],
            [
             0.1111111111111111,
             "#46039f"
            ],
            [
             0.2222222222222222,
             "#7201a8"
            ],
            [
             0.3333333333333333,
             "#9c179e"
            ],
            [
             0.4444444444444444,
             "#bd3786"
            ],
            [
             0.5555555555555556,
             "#d8576b"
            ],
            [
             0.6666666666666666,
             "#ed7953"
            ],
            [
             0.7777777777777778,
             "#fb9f3a"
            ],
            [
             0.8888888888888888,
             "#fdca26"
            ],
            [
             1,
             "#f0f921"
            ]
           ]
          },
          "colorway": [
           "#636efa",
           "#EF553B",
           "#00cc96",
           "#ab63fa",
           "#FFA15A",
           "#19d3f3",
           "#FF6692",
           "#B6E880",
           "#FF97FF",
           "#FECB52"
          ],
          "font": {
           "color": "#2a3f5f"
          },
          "geo": {
           "bgcolor": "white",
           "lakecolor": "white",
           "landcolor": "#E5ECF6",
           "showlakes": true,
           "showland": true,
           "subunitcolor": "white"
          },
          "hoverlabel": {
           "align": "left"
          },
          "hovermode": "closest",
          "mapbox": {
           "style": "light"
          },
          "paper_bgcolor": "white",
          "plot_bgcolor": "#E5ECF6",
          "polar": {
           "angularaxis": {
            "gridcolor": "white",
            "linecolor": "white",
            "ticks": ""
           },
           "bgcolor": "#E5ECF6",
           "radialaxis": {
            "gridcolor": "white",
            "linecolor": "white",
            "ticks": ""
           }
          },
          "scene": {
           "xaxis": {
            "backgroundcolor": "#E5ECF6",
            "gridcolor": "white",
            "gridwidth": 2,
            "linecolor": "white",
            "showbackground": true,
            "ticks": "",
            "zerolinecolor": "white"
           },
           "yaxis": {
            "backgroundcolor": "#E5ECF6",
            "gridcolor": "white",
            "gridwidth": 2,
            "linecolor": "white",
            "showbackground": true,
            "ticks": "",
            "zerolinecolor": "white"
           },
           "zaxis": {
            "backgroundcolor": "#E5ECF6",
            "gridcolor": "white",
            "gridwidth": 2,
            "linecolor": "white",
            "showbackground": true,
            "ticks": "",
            "zerolinecolor": "white"
           }
          },
          "shapedefaults": {
           "line": {
            "color": "#2a3f5f"
           }
          },
          "ternary": {
           "aaxis": {
            "gridcolor": "white",
            "linecolor": "white",
            "ticks": ""
           },
           "baxis": {
            "gridcolor": "white",
            "linecolor": "white",
            "ticks": ""
           },
           "bgcolor": "#E5ECF6",
           "caxis": {
            "gridcolor": "white",
            "linecolor": "white",
            "ticks": ""
           }
          },
          "title": {
           "x": 0.05
          },
          "xaxis": {
           "automargin": true,
           "gridcolor": "white",
           "linecolor": "white",
           "ticks": "",
           "title": {
            "standoff": 15
           },
           "zerolinecolor": "white",
           "zerolinewidth": 2
          },
          "yaxis": {
           "automargin": true,
           "gridcolor": "white",
           "linecolor": "white",
           "ticks": "",
           "title": {
            "standoff": 15
           },
           "zerolinecolor": "white",
           "zerolinewidth": 2
          }
         }
        },
        "title": {
         "text": "Average Club Budget per Country (SoFIFA Data)"
        }
       }
      }
     },
     "metadata": {},
     "output_type": "display_data"
    }
   ],
   "source": [
    "import plotly.express as px\n",
    "\n",
    "fig = px.choropleth(\n",
    "    country_perf,\n",
    "    locations=\"country\",\n",
    "    locationmode=\"country names\",  # you can also use ISO codes if you have them\n",
    "    color=\"avg_budget\",\n",
    "    color_continuous_scale=\"Viridis\",\n",
    "    hover_name=\"country\",\n",
    "    hover_data={\n",
    "        \"avg_budget\": True,\n",
    "        \"avg_rating\": True,\n",
    "        \"n_clubs\": True,\n",
    "        \"top_clubs\": True\n",
    "    },\n",
    "    title=\"Average Club Budget per Country (SoFIFA Data)\"\n",
    ")\n",
    "\n",
    "fig.update_layout(\n",
    "    geo=dict(\n",
    "        showframe=False,\n",
    "        showcoastlines=True,\n",
    "        projection_type=\"natural earth\"\n",
    "    ),\n",
    "    coloraxis_colorbar=dict(title=\"Avg Budget (€M)\")\n",
    ")\n",
    "\n",
    "fig.show()\n"
   ]
  }
 ],
 "metadata": {
  "kernelspec": {
   "display_name": "Python 3",
   "language": "python",
   "name": "python3"
  },
  "language_info": {
   "codemirror_mode": {
    "name": "ipython",
    "version": 3
   },
   "file_extension": ".py",
   "mimetype": "text/x-python",
   "name": "python",
   "nbconvert_exporter": "python",
   "pygments_lexer": "ipython3",
   "version": "3.12.2"
  }
 },
 "nbformat": 4,
 "nbformat_minor": 5
}
